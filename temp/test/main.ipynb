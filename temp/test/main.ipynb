{
 "cells": [
  {
   "cell_type": "code",
   "execution_count": 1,
   "metadata": {
    "collapsed": true
   },
   "outputs": [],
   "source": [
    "from selenium import webdriver\n",
    "from selenium.webdriver.common.keys import Keys\n",
    "import time\n",
    "from bs4 import BeautifulSoup\n",
    "import pandas as pd\n",
    "import requests as req\n",
    "from crawling_helper.crawling_function import Cralwer"
   ]
  },
  {
   "cell_type": "code",
   "execution_count": null,
   "outputs": [],
   "source": [],
   "metadata": {
    "collapsed": false,
    "pycharm": {
     "name": "#%%\n"
    }
   }
  },
  {
   "cell_type": "code",
   "execution_count": 2,
   "outputs": [
    {
     "name": "stderr",
     "output_type": "stream",
     "text": [
      "C:\\Users\\Jun\\AppData\\Local\\Temp/ipykernel_224/2370078641.py:6: DeprecationWarning: executable_path has been deprecated, please pass in a Service object\n",
      "  driver = webdriver.Chrome('C:\\hjun\\webdriver\\chromedriver.exe', options=options)\n"
     ]
    }
   ],
   "source": [
    "# 창 숨기는 옵션 추가\n",
    "options = webdriver.ChromeOptions()\n",
    "options.add_argument(\"headless\")\n",
    "\n",
    "# 웹 드라이버\n",
    "driver = webdriver.Chrome('C:\\hjun\\webdriver\\chromedriver.exe', options=options)\n",
    "# 네이버 금융"
   ],
   "metadata": {
    "collapsed": false,
    "pycharm": {
     "name": "#%%\n"
    }
   }
  },
  {
   "cell_type": "code",
   "execution_count": 3,
   "outputs": [
    {
     "name": "stderr",
     "output_type": "stream",
     "text": [
      "C:\\Users\\Jun\\AppData\\Local\\Temp/ipykernel_224/663633969.py:3: DeprecationWarning: find_elements_by_* commands are deprecated. Please use find_elements() instead\n",
      "  driver.find_elements_by_xpath('//*[@id=\"lnb\"]/ul/li[6]/a')[0].click()\n",
      "C:\\Users\\Jun\\AppData\\Local\\Temp/ipykernel_224/663633969.py:4: DeprecationWarning: find_elements_by_* commands are deprecated. Please use find_elements() instead\n",
      "  driver.find_elements_by_xpath('//*[@id=\"snb\"]/ul/li[5]/a')[0].click()\n"
     ]
    }
   ],
   "source": [
    "search = driver.get('https://news.naver.com/main/list.naver')\n",
    "\n",
    "driver.find_elements_by_xpath('//*[@id=\"lnb\"]/ul/li[6]/a')[0].click()\n",
    "driver.find_elements_by_xpath('//*[@id=\"snb\"]/ul/li[5]/a')[0].click()\n",
    "\n",
    "req = driver.page_source\n",
    "soup = BeautifulSoup(req, 'html.parser')"
   ],
   "metadata": {
    "collapsed": false,
    "pycharm": {
     "name": "#%%\n"
    }
   }
  },
  {
   "cell_type": "code",
   "execution_count": 4,
   "outputs": [
    {
     "name": "stdout",
     "output_type": "stream",
     "text": [
      "                                                   0\n",
      "0                                                 \\n\n",
      "1  [\\n, [\\n, [\\n, <img alt=\"[코인뉴스] 비트코인, 일시적 투심 회...\n",
      "2                                                 \\n\n",
      "                                                   0\n",
      "0                                                 \\n\n",
      "1  [\\n, [\\n, [\\n, <img alt=\"윈스, 지난해 영업이익 210억원…사상...\n",
      "2                                                 \\n\n",
      "                                                   0\n",
      "0                                                 \\n\n",
      "1  [\\n, [\\n, [\\n, <img alt=\"지능-고도화 범죄 대응 VS 민간 사이...\n",
      "2                                                 \\n\n",
      "                                                   0\n",
      "0                                                 \\n\n",
      "1  [\\n, [\\n, [\\n, <img alt=\"윈스, 지난해 매출 964억원…역대 최...\n",
      "2                                                 \\n\n"
     ]
    }
   ],
   "source": [
    "information_list = []\n",
    "\n",
    "for i in range(1, 5):\n",
    "    s = soup.select('#main_content > div.list_body.newsflash_body > ul.type06_headline > li:nth-child({0})'.format(i))\n",
    "    information_list.append(s)"
   ],
   "metadata": {
    "collapsed": false,
    "pycharm": {
     "name": "#%%\n"
    }
   }
  },
  {
   "cell_type": "code",
   "execution_count": 5,
   "outputs": [
    {
     "data": {
      "text/plain": "[[<li>\n  <dl>\n  <dt class=\"photo\">\n  <a href=\"https://news.naver.com/main/read.naver?mode=LS2D&amp;mid=shm&amp;sid1=105&amp;sid2=732&amp;oid=119&amp;aid=0002573374\">\n  <img alt=\"[코인뉴스] 비트코인, 일시적 투심 회복?…5200만원대 순항\" height=\"72\" onerror=\"javascript:this.src='https://ssl.pstatic.net/static.news/image/news/2009/noimage_106x72.png';\" src=\"https://imgnews.pstatic.net/image/origin/119/2022/02/07/2573374.jpg?type=nf106_72\" width=\"106\"/>\n  </a>\n  </dt>\n  <dt>\n  <a href=\"https://news.naver.com/main/read.naver?mode=LS2D&amp;mid=shm&amp;sid1=105&amp;sid2=732&amp;oid=119&amp;aid=0002573374\">\n  \t\t\t\t\t\t\t\t [코인뉴스] 비트코인, 일시적 투심 회복?…5200만원대 순항\n  \t\t\t\t\t\t\t\t</a>\n  </dt>\n  <dd>\n  <span class=\"lede\">[데일리안 = 이건엄 기자] 비트코인이 5200만원대에서 순항하며 좋은 흐름을 이어가고 있다. 연초 폭락장 이후 위축됐던 투자심 …</span>\n  <span class=\"writing\">데일리안</span>\n  <span class=\"date is_outdated\">9시간전\t</span>\n  </dd>\n  </dl>\n  </li>],\n [<li>\n  <dl>\n  <dt class=\"photo\">\n  <a href=\"https://news.naver.com/main/read.naver?mode=LS2D&amp;mid=shm&amp;sid1=105&amp;sid2=732&amp;oid=031&amp;aid=0000652303\">\n  <img alt=\"윈스, 지난해 영업이익 210억원…사상 최대\" height=\"72\" onerror=\"javascript:this.src='https://ssl.pstatic.net/static.news/image/news/2009/noimage_106x72.png';\" src=\"https://imgnews.pstatic.net/image/origin/031/2022/02/07/652303.jpg?type=nf106_72\" width=\"106\"/>\n  </a>\n  </dt>\n  <dt>\n  <a href=\"https://news.naver.com/main/read.naver?mode=LS2D&amp;mid=shm&amp;sid1=105&amp;sid2=732&amp;oid=031&amp;aid=0000652303\">\n  \t\t\t\t\t\t\t\t 윈스, 지난해 영업이익 210억원…사상 최대\n  \t\t\t\t\t\t\t\t</a>\n  </dt>\n  <dd>\n  <span class=\"lede\">윈스가 통신 시장과 클라우드 관제 서비스 매출 신장에 힘입어 지난해 최대 실적을 경신했다. 윈스는 7일 잠정실적 공시를 통해 2 …</span>\n  <span class=\"writing\">아이뉴스24</span>\n  <span class=\"date is_outdated\">12시간전\t</span>\n  </dd>\n  </dl>\n  </li>],\n [<li>\n  <dl>\n  <dt class=\"photo\">\n  <a href=\"https://news.naver.com/main/read.naver?mode=LS2D&amp;mid=shm&amp;sid1=105&amp;sid2=732&amp;oid=030&amp;aid=0002997307\">\n  <img alt=\"지능-고도화 범죄 대응 VS 민간 사이버 사찰...사이버 안보법 논란 확산\" height=\"72\" onerror=\"javascript:this.src='https://ssl.pstatic.net/static.news/image/news/2009/noimage_106x72.png';\" src=\"https://imgnews.pstatic.net/image/origin/030/2022/02/07/2997307.jpg?type=nf106_72\" width=\"106\"/>\n  </a>\n  </dt>\n  <dt>\n  <a href=\"https://news.naver.com/main/read.naver?mode=LS2D&amp;mid=shm&amp;sid1=105&amp;sid2=732&amp;oid=030&amp;aid=0002997307\">\n  \t\t\t\t\t\t\t\t 지능-고도화 범죄 대응 VS 민간 사이버 사찰...사이버 안보법 논란 확산\n  \t\t\t\t\t\t\t\t</a>\n  </dt>\n  <dd>\n  <span class=\"lede\">국가정보원에 민간의 정보통신 망과 컴퓨터 조사 권한을 부여한 '국가사이버안보법안' 등회 논의가 시작된 가운데 찬반 양론이 격돌하 …</span>\n  <span class=\"writing\">전자신문</span>\n  <span class=\"newspaper_info\" title=\"신문에 게재되었으며 17면의 TOP기사입니다.\"><i class=\"picon\">신문</i>17면 <i class=\"icon_top\"> TOP</i></span>\n  <span class=\"date is_outdated\">15시간전\t</span>\n  </dd>\n  </dl>\n  </li>],\n [<li>\n  <dl>\n  <dt class=\"photo\">\n  <a href=\"https://news.naver.com/main/read.naver?mode=LS2D&amp;mid=shm&amp;sid1=105&amp;sid2=732&amp;oid=015&amp;aid=0004660649\">\n  <img alt=\"윈스, 지난해 매출 964억원…역대 최대치\" height=\"72\" onerror=\"javascript:this.src='https://ssl.pstatic.net/static.news/image/news/2009/noimage_106x72.png';\" src=\"https://imgnews.pstatic.net/image/origin/015/2022/02/07/4660649.jpg?type=nf106_72\" width=\"106\"/>\n  </a>\n  </dt>\n  <dt>\n  <a href=\"https://news.naver.com/main/read.naver?mode=LS2D&amp;mid=shm&amp;sid1=105&amp;sid2=732&amp;oid=015&amp;aid=0004660649\">\n  \t\t\t\t\t\t\t\t 윈스, 지난해 매출 964억원…역대 최대치\n  \t\t\t\t\t\t\t\t</a>\n  </dt>\n  <dd>\n  <span class=\"lede\">보안업체 윈스가 3년 연속으로 매출액과 영업이익 최대치를 경신했다. 5G 통신·클라우드 관제 사업 성장세가 기반이다. 윈스는 지 …</span>\n  <span class=\"writing\">한국경제</span>\n  <span class=\"date is_outdated\">15시간전\t</span>\n  </dd>\n  </dl>\n  </li>]]"
     },
     "execution_count": 5,
     "metadata": {},
     "output_type": "execute_result"
    }
   ],
   "source": [
    "information_list"
   ],
   "metadata": {
    "collapsed": false,
    "pycharm": {
     "name": "#%%\n"
    }
   }
  }
 ],
 "metadata": {
  "kernelspec": {
   "display_name": "Python 3",
   "language": "python",
   "name": "python3"
  },
  "language_info": {
   "codemirror_mode": {
    "name": "ipython",
    "version": 2
   },
   "file_extension": ".py",
   "mimetype": "text/x-python",
   "name": "python",
   "nbconvert_exporter": "python",
   "pygments_lexer": "ipython2",
   "version": "2.7.6"
  }
 },
 "nbformat": 4,
 "nbformat_minor": 0
}