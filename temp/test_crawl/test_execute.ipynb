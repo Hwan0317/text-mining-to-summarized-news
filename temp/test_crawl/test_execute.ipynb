{
 "cells": [
  {
   "cell_type": "code",
   "execution_count": 19,
   "metadata": {},
   "outputs": [],
   "source": [
    "from function_test import Crawler\n",
    "\n",
    "c = Crawler()\n",
    "# c.selection_crawling_page(5)"
   ]
  },
  {
   "cell_type": "code",
   "execution_count": 17,
   "metadata": {},
   "outputs": [
    {
     "data": {
      "text/plain": [
       "'20220506'"
      ]
     },
     "execution_count": 17,
     "metadata": {},
     "output_type": "execute_result"
    }
   ],
   "source": [
    "# from datetime import date, datetime,timedelta\n",
    "\n",
    "# (datetime.now() - timedelta(days=5)).strftime(\"%Y%m%d\")"
   ]
  },
  {
   "cell_type": "code",
   "execution_count": 20,
   "metadata": {},
   "outputs": [
    {
     "ename": "TypeError",
     "evalue": "can only concatenate str (not \"int\") to str",
     "output_type": "error",
     "traceback": [
      "\u001b[1;31m---------------------------------------------------------------------------\u001b[0m",
      "\u001b[1;31mTypeError\u001b[0m                                 Traceback (most recent call last)",
      "\u001b[1;32mc:\\hjun\\git\\text-mining-to-summarized-news\\crawling_helper\\test\\test_execute.ipynb Cell 3'\u001b[0m in \u001b[0;36m<cell line: 1>\u001b[1;34m()\u001b[0m\n\u001b[1;32m----> <a href='vscode-notebook-cell:/c%3A/hjun/git/text-mining-to-summarized-news/crawling_helper/test/test_execute.ipynb#ch0000002?line=0'>1</a>\u001b[0m c\u001b[39m.\u001b[39;49mget_pages_count()\n",
      "File \u001b[1;32mc:\\hjun\\git\\text-mining-to-summarized-news\\crawling_helper\\test\\function_test.py:37\u001b[0m, in \u001b[0;36mCrawler.get_pages_count\u001b[1;34m(self)\u001b[0m\n\u001b[0;32m     <a href='file:///c%3A/hjun/git/text-mining-to-summarized-news/crawling_helper/test/function_test.py?line=34'>35</a>\u001b[0m \u001b[39mdef\u001b[39;00m \u001b[39mget_pages_count\u001b[39m(\u001b[39mself\u001b[39m) :\n\u001b[1;32m---> <a href='file:///c%3A/hjun/git/text-mining-to-summarized-news/crawling_helper/test/function_test.py?line=36'>37</a>\u001b[0m     url \u001b[39m=\u001b[39m \u001b[39m\"\u001b[39;49m\u001b[39mhttps://news.naver.com/main/list.naver?mode=LPOD&mid=sec&oid=\u001b[39;49m\u001b[39m\"\u001b[39;49m \u001b[39m+\u001b[39;49m \\\n\u001b[0;32m     <a href='file:///c%3A/hjun/git/text-mining-to-summarized-news/crawling_helper/test/function_test.py?line=37'>38</a>\u001b[0m         \u001b[39mstr\u001b[39;49m(it_companys\u001b[39m.\u001b[39;49mDigital_Daily) \u001b[39m+\u001b[39;49m \u001b[39m\"\u001b[39;49m\u001b[39m&date=\u001b[39;49m\u001b[39m\"\u001b[39;49m \u001b[39m+\u001b[39;49m (datetime\u001b[39m.\u001b[39;49mnow() \u001b[39m-\u001b[39;49m\n\u001b[0;32m     <a href='file:///c%3A/hjun/git/text-mining-to-summarized-news/crawling_helper/test/function_test.py?line=38'>39</a>\u001b[0m                                                      timedelta(days\u001b[39m=\u001b[39;49m\u001b[39m5\u001b[39;49m))\u001b[39m.\u001b[39;49mstrftime(\u001b[39m\"\u001b[39;49m\u001b[39m%\u001b[39;49m\u001b[39mY\u001b[39;49m\u001b[39m%\u001b[39;49m\u001b[39mm\u001b[39;49m\u001b[39m%d\u001b[39;49;00m\u001b[39m\"\u001b[39;49m) \u001b[39m+\u001b[39;49m \u001b[39m\"\u001b[39;49m\u001b[39m&page=\u001b[39;49m\u001b[39m\"\u001b[39;49m \u001b[39m+\u001b[39;49m \u001b[39m10\u001b[39;49m       \n\u001b[0;32m     <a href='file:///c%3A/hjun/git/text-mining-to-summarized-news/crawling_helper/test/function_test.py?line=40'>41</a>\u001b[0m     original_html \u001b[39m=\u001b[39m requests\u001b[39m.\u001b[39mget(url\u001b[39m=\u001b[39murl, headers\u001b[39m=\u001b[39m{\u001b[39m'\u001b[39m\u001b[39mUser-Agent\u001b[39m\u001b[39m'\u001b[39m: \u001b[39m'\u001b[39m\u001b[39mMozilla/5.0\u001b[39m\u001b[39m'\u001b[39m})\n\u001b[0;32m     <a href='file:///c%3A/hjun/git/text-mining-to-summarized-news/crawling_helper/test/function_test.py?line=41'>42</a>\u001b[0m     html \u001b[39m=\u001b[39m BeautifulSoup(original_html\u001b[39m.\u001b[39mtext, \u001b[39m\"\u001b[39m\u001b[39mhtml.parser\u001b[39m\u001b[39m\"\u001b[39m)\n",
      "\u001b[1;31mTypeError\u001b[0m: can only concatenate str (not \"int\") to str"
     ]
    }
   ],
   "source": [
    "c.get_pages_count()"
   ]
  }
 ],
 "metadata": {
  "interpreter": {
   "hash": "11bbe6585176655f9f1aab482caa54fd4f8a8edd1205de95a3b08398bf360513"
  },
  "kernelspec": {
   "display_name": "Python 3.9.7 ('.venv': venv)",
   "language": "python",
   "name": "python3"
  },
  "language_info": {
   "codemirror_mode": {
    "name": "ipython",
    "version": 3
   },
   "file_extension": ".py",
   "mimetype": "text/x-python",
   "name": "python",
   "nbconvert_exporter": "python",
   "pygments_lexer": "ipython3",
   "version": "3.9.7"
  },
  "orig_nbformat": 4
 },
 "nbformat": 4,
 "nbformat_minor": 2
}
