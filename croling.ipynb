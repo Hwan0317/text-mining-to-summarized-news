{
 "cells": [
  {
   "cell_type": "code",
   "execution_count": 4,
   "metadata": {},
   "outputs": [],
   "source": [
    "import requests\n",
    "from bs4 import BeautifulSoup as bs\n",
    "import time\n",
    "import random\n",
    "import pandas as pd"
   ]
  },
  {
   "cell_type": "code",
   "execution_count": 5,
   "metadata": {},
   "outputs": [],
   "source": [
    "date = 20211109\n",
    "list_url_base = \"https://news.naver.com/main/list.naver\"\n",
    "list_url_start = f\"?mode=LS2D&mid=shm&sid2=250&sid1=102&date={date}\"\n",
    "headers = {\n",
    "    \"User-Agent\": \"Mozilla/5.0 (Windows NT 10.0; Win64; x64) AppleWebKit/537.36 (KHTML, like Gecko) Chrome/95.0.4638.69 Safari/537.36\"\n",
    "}\n",
    "https://news.naver.com/main/read.naver?m_view=1&includeAllCount=true&mode=LS2D&mid=shm&sid1=102&sid2=250&oid=001&aid=0012794955\n",
    "https://news.naver.com/main/read.naver?mode=LS2D&mid=shm&sid1=102&sid2=250&oid=001&aid=0012794955"
   ]
  },
  {
   "cell_type": "code",
   "execution_count": 6,
   "metadata": {},
   "outputs": [],
   "source": [
    "response = requests.get(list_url_base+list_url_start, headers=headers)\n",
    "list_page = bs(response.text, \"html.parser\")\n",
    "\n",
    "time.sleep(random.randrange(20, 30))\n"
   ]
  },
  {
   "cell_type": "code",
   "execution_count": 12,
   "metadata": {},
   "outputs": [],
   "source": [
    "def get_read_content(read_url):\n",
    "    response = requests.get(read_url, headers=headers)\n",
    "\n",
    "    res = bs(response.text, \"html.parser\")\n",
    "    journalist_name = res.find(\"div\",{\"class\":\"journalistcard_summary_name\"}).text\n",
    "\n",
    "    # likeit_list = res.find_all(\"span\",{\"class\":\"u_likeit_list_count _count\"})\n",
    "    # print(likeit_list)\n",
    "    res = res.find(\"div\", {\"class\": \"_article_body_contents article_body_contents\"})\n",
    "\n",
    "    try:\n",
    "        img_coment = res.find(\"em\",{\"class\": \"img_desc\"}).text.strip()\n",
    "    except:\n",
    "        img_coment = \"\"\n",
    "\n",
    "    full_con = res.text.strip().replace(img_coment,\"\").replace(\"// flash 오류를 우회하기 위한 함수 추가\",\"\").replace(\"function _flash_removeCallback() {}\", \"\").replace(\"\\n\",\"\")\n",
    "\n",
    "    return img_coment, full_con, journalist_name\n",
    "\n",
    "\n",
    "# get_read_content(\"https://news.naver.com/main/read.naver?mode=LS2D&mid=shm&sid1=102&sid2=250&oid=469&aid=0000640122\")\\\n",
    "#     .text.strip().replace(\"// flash 오류를 우회하기 위한 함수 추가\\nfunction _flash_removeCallback() {}\\n\\n\", \"\")\n"
   ]
  },
  {
   "cell_type": "code",
   "execution_count": 8,
   "metadata": {},
   "outputs": [],
   "source": [
    "\n",
    "def get_content(news_list):\n",
    "    news_page_df = None\n",
    "    for news in news_list[4:5]:\n",
    "        inf = {\"date\": None, \"title\": None, \"lede\": None,\n",
    "            \"writing\": None,\"journalist\": None, \"news_url\": None, \"img_url\": None,\n",
    "            \"content\": None, \"img_coment\": None}\n",
    "\n",
    "        inf[\"date\"] = date\n",
    "        head = news.find(\"dl\").find(\"dt\")\n",
    "        news_url = head.find(\"a\")[\"href\"]\n",
    "        # cont = get_read_content(news_url)\n",
    "        # inf[\"img_coment\"] = cont[0]\n",
    "        # inf[\"content\"] = cont[1]\n",
    "        # inf[\"journalist\"] = cont[2]\n",
    "        inf[\"img_coment\"], inf[\"content\"], inf[\"journalist\"] = get_read_content(news_url)\n",
    "\n",
    "        inf[\"news_url\"] = news_url\n",
    "        img_url = inf[\"img_url\"] = head.find(\"a\").find(\"img\")\n",
    "\n",
    "        if img_url is not None:\n",
    "            inf[\"img_url\"] = img_url[\"src\"][:-14]\n",
    "            inf[\"title\"] = img_url[\"alt\"]\n",
    "        else:\n",
    "            inf[\"title\"] = head.text.strip()\n",
    "\n",
    "        dd = news.find(\"dl\").find(\"dd\")\n",
    "        inf[\"lede\"] = dd.find(\"span\",{\"class\":\"lede\"}).text\n",
    "        inf[\"writing\"] = dd.find(\"span\",{\"class\":\"writing\"}).text\n",
    "\n",
    "        try:\n",
    "            news_page_df = news_page_df.append(inf,ignore_index=True)\n",
    "        except:\n",
    "            news_page_df = pd.DataFrame([inf])\n",
    "        time.sleep(random.randrange(5,15))\n",
    "    return news_page_df"
   ]
  },
  {
   "cell_type": "code",
   "execution_count": 13,
   "metadata": {},
   "outputs": [
    {
     "data": {
      "text/html": [
       "<div>\n",
       "<style scoped>\n",
       "    .dataframe tbody tr th:only-of-type {\n",
       "        vertical-align: middle;\n",
       "    }\n",
       "\n",
       "    .dataframe tbody tr th {\n",
       "        vertical-align: top;\n",
       "    }\n",
       "\n",
       "    .dataframe thead th {\n",
       "        text-align: right;\n",
       "    }\n",
       "</style>\n",
       "<table border=\"1\" class=\"dataframe\">\n",
       "  <thead>\n",
       "    <tr style=\"text-align: right;\">\n",
       "      <th></th>\n",
       "      <th>date</th>\n",
       "      <th>title</th>\n",
       "      <th>lede</th>\n",
       "      <th>writing</th>\n",
       "      <th>journalist</th>\n",
       "      <th>news_url</th>\n",
       "      <th>img_url</th>\n",
       "      <th>content</th>\n",
       "      <th>img_coment</th>\n",
       "    </tr>\n",
       "  </thead>\n",
       "  <tbody>\n",
       "    <tr>\n",
       "      <th>0</th>\n",
       "      <td>20211109</td>\n",
       "      <td>\"매운급식 인권침해\"…정치하는엄마들, 병설유치원 인권위 진정</td>\n",
       "      <td>(서울=연합뉴스) 송은경 기자 = 시민단체 '정치하는엄마들'은 매운 급식을 제공하는...</td>\n",
       "      <td>연합뉴스</td>\n",
       "      <td>송은경 기자</td>\n",
       "      <td>https://news.naver.com/main/read.naver?mode=LS...</td>\n",
       "      <td>https://imgnews.pstatic.net/image/origin/001/2...</td>\n",
       "      <td>(서울=연합뉴스) 송은경 기자 = 시민단체 '정치하는엄마들'은 매운 급식을 ...</td>\n",
       "      <td>'매운 급식' 제보 사례[정치하는엄마들 제공. 재판매 및 DB 금지]</td>\n",
       "    </tr>\n",
       "  </tbody>\n",
       "</table>\n",
       "</div>"
      ],
      "text/plain": [
       "       date                              title  \\\n",
       "0  20211109  \"매운급식 인권침해\"…정치하는엄마들, 병설유치원 인권위 진정   \n",
       "\n",
       "                                                lede writing journalist  \\\n",
       "0  (서울=연합뉴스) 송은경 기자 = 시민단체 '정치하는엄마들'은 매운 급식을 제공하는...    연합뉴스     송은경 기자   \n",
       "\n",
       "                                            news_url  \\\n",
       "0  https://news.naver.com/main/read.naver?mode=LS...   \n",
       "\n",
       "                                             img_url  \\\n",
       "0  https://imgnews.pstatic.net/image/origin/001/2...   \n",
       "\n",
       "                                             content  \\\n",
       "0      (서울=연합뉴스) 송은경 기자 = 시민단체 '정치하는엄마들'은 매운 급식을 ...   \n",
       "\n",
       "                               img_coment  \n",
       "0  '매운 급식' 제보 사례[정치하는엄마들 제공. 재판매 및 DB 금지]  "
      ]
     },
     "execution_count": 13,
     "metadata": {},
     "output_type": "execute_result"
    }
   ],
   "source": [
    "news_list = list_page.find(\"div\", {\"class\": \"content\"})\n",
    "news_list = news_list.find_all(\"li\")\n",
    "\n",
    "con = get_content(news_list)\n",
    "con"
   ]
  },
  {
   "cell_type": "code",
   "execution_count": 64,
   "metadata": {},
   "outputs": [],
   "source": [
    "if \"next\" in list_page.find(\"div\",{\"class\":\"paging\"}).find_all(\"a\")[-1][\"class\"]:\n",
    "    news_list_url_list = list_page.find(\"div\",{\"class\":\"paging\"}).find_all(\"a\")[:-1]\n",
    "    next_page_url = list_page.find(\"div\",{\"class\":\"paging\"}).find_all(\"a\")[-1][\"href\"]\n",
    "else:\n",
    "    news_list_url_list = list_page.find(\"div\",{\"class\":\"paging\"}).find_all(\"a\")\n",
    "    next_page_url = None"
   ]
  },
  {
   "cell_type": "code",
   "execution_count": 63,
   "metadata": {},
   "outputs": [
    {
     "name": "stdout",
     "output_type": "stream",
     "text": [
      "https://news.naver.com/main/list.naver?mode=LS2D&mid=shm&sid2=250&sid1=102&date=20211109&page=2\n",
      "https://news.naver.com/main/list.naver?mode=LS2D&mid=shm&sid2=250&sid1=102&date=20211109&page=3\n",
      "https://news.naver.com/main/list.naver?mode=LS2D&mid=shm&sid2=250&sid1=102&date=20211109&page=4\n",
      "https://news.naver.com/main/list.naver?mode=LS2D&mid=shm&sid2=250&sid1=102&date=20211109&page=5\n",
      "https://news.naver.com/main/list.naver?mode=LS2D&mid=shm&sid2=250&sid1=102&date=20211109&page=6\n",
      "https://news.naver.com/main/list.naver?mode=LS2D&mid=shm&sid2=250&sid1=102&date=20211109&page=7\n",
      "https://news.naver.com/main/list.naver?mode=LS2D&mid=shm&sid2=250&sid1=102&date=20211109&page=8\n",
      "https://news.naver.com/main/list.naver?mode=LS2D&mid=shm&sid2=250&sid1=102&date=20211109&page=9\n",
      "https://news.naver.com/main/list.naver?mode=LS2D&mid=shm&sid2=250&sid1=102&date=20211109&page=10\n"
     ]
    }
   ],
   "source": [
    "for news_list_url in news_list_url_list:\n",
    "    print(list_url_base+news_list_url[\"href\"])"
   ]
  },
  {
   "cell_type": "code",
   "execution_count": 72,
   "metadata": {},
   "outputs": [
    {
     "data": {
      "text/html": [
       "<div>\n",
       "<style scoped>\n",
       "    .dataframe tbody tr th:only-of-type {\n",
       "        vertical-align: middle;\n",
       "    }\n",
       "\n",
       "    .dataframe tbody tr th {\n",
       "        vertical-align: top;\n",
       "    }\n",
       "\n",
       "    .dataframe thead th {\n",
       "        text-align: right;\n",
       "    }\n",
       "</style>\n",
       "<table border=\"1\" class=\"dataframe\">\n",
       "  <thead>\n",
       "    <tr style=\"text-align: right;\">\n",
       "      <th></th>\n",
       "      <th>date</th>\n",
       "      <th>title</th>\n",
       "      <th>lede</th>\n",
       "      <th>writing</th>\n",
       "      <th>journalist</th>\n",
       "      <th>news_url</th>\n",
       "      <th>img_url</th>\n",
       "      <th>content</th>\n",
       "      <th>img_coment</th>\n",
       "    </tr>\n",
       "  </thead>\n",
       "  <tbody>\n",
       "  </tbody>\n",
       "</table>\n",
       "</div>"
      ],
      "text/plain": [
       "Empty DataFrame\n",
       "Columns: [date, title, lede, writing, journalist, news_url, img_url, content, img_coment]\n",
       "Index: []"
      ]
     },
     "execution_count": 72,
     "metadata": {},
     "output_type": "execute_result"
    }
   ],
   "source": [
    "all_news_df = pd.DataFrame(\n",
    "    columns=[\n",
    "        \"date\",\n",
    "        \"title\",\n",
    "        \"lede\",\n",
    "        \"writing\",\n",
    "        \"journalist\",\n",
    "        \"news_url\",\n",
    "        \"img_url\",\n",
    "        \"content\",\n",
    "        \"img_coment\",\n",
    "    ]\n",
    ")\n",
    "all_news_df\n"
   ]
  }
 ],
 "metadata": {
  "interpreter": {
   "hash": "b3ba2566441a7c06988d0923437866b63cedc61552a5af99d1f4fb67d367b25f"
  },
  "kernelspec": {
   "display_name": "Python 3.8.8 64-bit ('base': conda)",
   "language": "python",
   "name": "python3"
  },
  "language_info": {
   "codemirror_mode": {
    "name": "ipython",
    "version": 3
   },
   "file_extension": ".py",
   "mimetype": "text/x-python",
   "name": "python",
   "nbconvert_exporter": "python",
   "pygments_lexer": "ipython3",
   "version": "3.8.8"
  },
  "orig_nbformat": 4
 },
 "nbformat": 4,
 "nbformat_minor": 2
}
