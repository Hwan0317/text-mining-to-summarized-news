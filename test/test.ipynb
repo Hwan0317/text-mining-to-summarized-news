{
 "cells": [
  {
   "cell_type": "code",
   "execution_count": 16,
   "metadata": {
    "collapsed": true
   },
   "outputs": [
    {
     "name": "stdout",
     "output_type": "stream",
     "text": [
      "10개의 기사가 검색됨\n"
     ]
    }
   ],
   "source": [
    "from crawling_helper.crawling_function import Cralwer\n",
    "from crawling_helper.news_summarization import Summarizator\n",
    "import pandas as pd\n",
    "import numpy as np\n",
    "\n",
    "crawler = Cralwer()\n",
    "\n",
    "crawler.set_search_keyword(\"코로나\")\n",
    "\n",
    "crawler.selection_crawling_page(1)\n",
    "\n",
    "result_contents = crawler.get_contents()"
   ]
  },
  {
   "cell_type": "code",
   "execution_count": 2,
   "outputs": [
    {
     "data": {
      "text/plain": "0    2022.04.01 (금)\\n서울 11℃\\n국제\\n코백스 북한 배정 코로나 백신 전...\n1    재난포털\\n기사제보\\n자동완성 기능이 켜져 있습니다.\\n송고시간2022-04-01 ...\n2    Copyright (c) YTN & YTN plus All rights reserv...\n3    전체\\n서울신문공식 SNS 채널구독 & 좋아요!!\\n\\n\\n\\n정부, 화장이든 매장...\n4    최근 검색어 내역이 없습니다.\\n\\n동아일보\\n회사소개|\\n문화스포츠사업|\\n신문박...\n5                                                     \n6    공수처 '편향성'에 날 세운 인수위 \"국민 신뢰 바닥\"\\n허태정 대전시장 \"대전지역...\n7    [�Ӻ�]�ڷγ� 2�ְ� ������ �ǳ�����ũ ���� �� �Ÿ��α� ...\n8    <저작권자 © 뉴스1코리아, 무단전재 및 재배포 금지>\\n개막전마다 불운에 울었던 ...\n9    2022.04.01 (금)\\n서울 11℃\\n산업\\n코로나 피해 중기 '대출만기·상환...\nName: contents, dtype: object"
     },
     "execution_count": 2,
     "metadata": {},
     "output_type": "execute_result"
    }
   ],
   "source": [
    "result_contents['contents']\n",
    "# 그러면 이 상황에서는 어떻게 해야하나\n",
    "# null 제거 본문 내용이 없을 시 제거하는 식으로 전처리 해주어야함\n",
    "# 그 외에 전처리는 text 전처리가 필요함\n",
    "# 자연어처리 process를 짜보자 -> 완성"
   ],
   "metadata": {
    "collapsed": false,
    "pycharm": {
     "name": "#%%\n"
    }
   }
  },
  {
   "cell_type": "code",
   "execution_count": 5,
   "outputs": [
    {
     "data": {
      "text/plain": "                                     title  \\\n0                   코백스 북한 배정 코로나 백신 전량 취소   \n1            문체부·복지부, 코로나19 의료진·방역인력 휴식 지원   \n2       [단독] 코로나 환자 이송하는데...확진 없어야 우수 구급대원   \n3                        코로나19 장례지침 변경 배경은   \n4          코로나로 2년간 취소됐던 ‘예비군 소집훈련’ 상반기 재개   \n5            코로나에 멈췄던 한강 분수 9곳, 다시 물줄기 뿜는다   \n6      코로나 환자 대면진료 의료기관, 최대 3만 1000원 추가 지급   \n7     [속보]코로나 2주간 안정시 실내마스크 착용 외 거리두기 전면해제   \n8  내주부터 '10명·12시' 거리두기…코로나 장례지원비 지급 중단(종합)   \n9           코로나 피해 중기 '대출만기·상환유예' 연기…3월→9월   \n\n                                            contents  \n0  2022.04.01 (금)\\n서울 11℃\\n국제\\n코백스 북한 배정 코로나 백신 전...  \n1  재난포털\\n기사제보\\n자동완성 기능이 켜져 있습니다.\\n송고시간2022-04-01 ...  \n2  Copyright (c) YTN & YTN plus All rights reserv...  \n3  전체\\n서울신문공식 SNS 채널구독 & 좋아요!!\\n\\n\\n\\n정부, 화장이든 매장...  \n4  최근 검색어 내역이 없습니다.\\n\\n동아일보\\n회사소개|\\n문화스포츠사업|\\n신문박...  \n5                                                     \n6  공수처 '편향성'에 날 세운 인수위 \"국민 신뢰 바닥\"\\n허태정 대전시장 \"대전지역...  \n7  [�Ӻ�]�ڷγ� 2�ְ� ������ �ǳ�����ũ ���� �� �Ÿ��α� ...  \n8  <저작권자 © 뉴스1코리아, 무단전재 및 재배포 금지>\\n개막전마다 불운에 울었던 ...  \n9  2022.04.01 (금)\\n서울 11℃\\n산업\\n코로나 피해 중기 '대출만기·상환...  ",
      "text/html": "<div>\n<style scoped>\n    .dataframe tbody tr th:only-of-type {\n        vertical-align: middle;\n    }\n\n    .dataframe tbody tr th {\n        vertical-align: top;\n    }\n\n    .dataframe thead th {\n        text-align: right;\n    }\n</style>\n<table border=\"1\" class=\"dataframe\">\n  <thead>\n    <tr style=\"text-align: right;\">\n      <th></th>\n      <th>title</th>\n      <th>contents</th>\n    </tr>\n  </thead>\n  <tbody>\n    <tr>\n      <th>0</th>\n      <td>코백스 북한 배정 코로나 백신 전량 취소</td>\n      <td>2022.04.01 (금)\\n서울 11℃\\n국제\\n코백스 북한 배정 코로나 백신 전...</td>\n    </tr>\n    <tr>\n      <th>1</th>\n      <td>문체부·복지부, 코로나19 의료진·방역인력 휴식 지원</td>\n      <td>재난포털\\n기사제보\\n자동완성 기능이 켜져 있습니다.\\n송고시간2022-04-01 ...</td>\n    </tr>\n    <tr>\n      <th>2</th>\n      <td>[단독] 코로나 환자 이송하는데...확진 없어야 우수 구급대원</td>\n      <td>Copyright (c) YTN &amp; YTN plus All rights reserv...</td>\n    </tr>\n    <tr>\n      <th>3</th>\n      <td>코로나19 장례지침 변경 배경은</td>\n      <td>전체\\n서울신문공식 SNS 채널구독 &amp; 좋아요!!\\n\\n\\n\\n정부, 화장이든 매장...</td>\n    </tr>\n    <tr>\n      <th>4</th>\n      <td>코로나로 2년간 취소됐던 ‘예비군 소집훈련’ 상반기 재개</td>\n      <td>최근 검색어 내역이 없습니다.\\n\\n동아일보\\n회사소개|\\n문화스포츠사업|\\n신문박...</td>\n    </tr>\n    <tr>\n      <th>5</th>\n      <td>코로나에 멈췄던 한강 분수 9곳, 다시 물줄기 뿜는다</td>\n      <td></td>\n    </tr>\n    <tr>\n      <th>6</th>\n      <td>코로나 환자 대면진료 의료기관, 최대 3만 1000원 추가 지급</td>\n      <td>공수처 '편향성'에 날 세운 인수위 \"국민 신뢰 바닥\"\\n허태정 대전시장 \"대전지역...</td>\n    </tr>\n    <tr>\n      <th>7</th>\n      <td>[속보]코로나 2주간 안정시 실내마스크 착용 외 거리두기 전면해제</td>\n      <td>[�Ӻ�]�ڷγ� 2�ְ� ������ �ǳ�����ũ ���� �� �Ÿ��α� ...</td>\n    </tr>\n    <tr>\n      <th>8</th>\n      <td>내주부터 '10명·12시' 거리두기…코로나 장례지원비 지급 중단(종합)</td>\n      <td>&lt;저작권자 © 뉴스1코리아, 무단전재 및 재배포 금지&gt;\\n개막전마다 불운에 울었던 ...</td>\n    </tr>\n    <tr>\n      <th>9</th>\n      <td>코로나 피해 중기 '대출만기·상환유예' 연기…3월→9월</td>\n      <td>2022.04.01 (금)\\n서울 11℃\\n산업\\n코로나 피해 중기 '대출만기·상환...</td>\n    </tr>\n  </tbody>\n</table>\n</div>"
     },
     "execution_count": 5,
     "metadata": {},
     "output_type": "execute_result"
    }
   ],
   "source": [
    "result_contents\n",
    "# 여기서 두 가지를 할 수 있음\n",
    "# title만으로 감성분석 한 번(어차피 둘다 모델을 쓰면 되니까)\n",
    "# contents로 감성분석 한 번(현 상황에서는 전처리가 힘드니 제목으로 하거나 뉴스 초반의 요약본도 ㄱㅊ)"
   ],
   "metadata": {
    "collapsed": false,
    "pycharm": {
     "name": "#%%\n"
    }
   }
  },
  {
   "cell_type": "markdown",
   "source": [
    "감성분석"
   ],
   "metadata": {
    "collapsed": false
   }
  },
  {
   "cell_type": "code",
   "execution_count": 6,
   "outputs": [
    {
     "data": {
      "text/plain": "0                     코백스 북한 배정 코로나 백신 전량 취소\n1              문체부·복지부, 코로나19 의료진·방역인력 휴식 지원\n2         [단독] 코로나 환자 이송하는데...확진 없어야 우수 구급대원\n3                          코로나19 장례지침 변경 배경은\n4            코로나로 2년간 취소됐던 ‘예비군 소집훈련’ 상반기 재개\n5              코로나에 멈췄던 한강 분수 9곳, 다시 물줄기 뿜는다\n6        코로나 환자 대면진료 의료기관, 최대 3만 1000원 추가 지급\n7       [속보]코로나 2주간 안정시 실내마스크 착용 외 거리두기 전면해제\n8    내주부터 '10명·12시' 거리두기…코로나 장례지원비 지급 중단(종합)\n9             코로나 피해 중기 '대출만기·상환유예' 연기…3월→9월\nName: title, dtype: object"
     },
     "execution_count": 6,
     "metadata": {},
     "output_type": "execute_result"
    }
   ],
   "source": [
    "titles = result_contents['title']\n",
    "titles"
   ],
   "metadata": {
    "collapsed": false,
    "pycharm": {
     "name": "#%%\n"
    }
   }
  },
  {
   "cell_type": "code",
   "execution_count": 17,
   "outputs": [
    {
     "data": {
      "text/plain": "                                     title\n0                   코백스 북한 배정 코로나 백신 전량 취소\n1            문체부·복지부, 코로나19 의료진·방역인력 휴식 지원\n2       [단독] 코로나 환자 이송하는데...확진 없어야 우수 구급대원\n3                        코로나19 장례지침 변경 배경은\n4          코로나로 2년간 취소됐던 ‘예비군 소집훈련’ 상반기 재개\n5            코로나에 멈췄던 한강 분수 9곳, 다시 물줄기 뿜는다\n6      코로나 환자 대면진료 의료기관, 최대 3만 1000원 추가 지급\n7     [속보]코로나 2주간 안정시 실내마스크 착용 외 거리두기 전면해제\n8  내주부터 '10명·12시' 거리두기…코로나 장례지원비 지급 중단(종합)\n9           코로나 피해 중기 '대출만기·상환유예' 연기…3월→9월",
      "text/html": "<div>\n<style scoped>\n    .dataframe tbody tr th:only-of-type {\n        vertical-align: middle;\n    }\n\n    .dataframe tbody tr th {\n        vertical-align: top;\n    }\n\n    .dataframe thead th {\n        text-align: right;\n    }\n</style>\n<table border=\"1\" class=\"dataframe\">\n  <thead>\n    <tr style=\"text-align: right;\">\n      <th></th>\n      <th>title</th>\n    </tr>\n  </thead>\n  <tbody>\n    <tr>\n      <th>0</th>\n      <td>코백스 북한 배정 코로나 백신 전량 취소</td>\n    </tr>\n    <tr>\n      <th>1</th>\n      <td>문체부·복지부, 코로나19 의료진·방역인력 휴식 지원</td>\n    </tr>\n    <tr>\n      <th>2</th>\n      <td>[단독] 코로나 환자 이송하는데...확진 없어야 우수 구급대원</td>\n    </tr>\n    <tr>\n      <th>3</th>\n      <td>코로나19 장례지침 변경 배경은</td>\n    </tr>\n    <tr>\n      <th>4</th>\n      <td>코로나로 2년간 취소됐던 ‘예비군 소집훈련’ 상반기 재개</td>\n    </tr>\n    <tr>\n      <th>5</th>\n      <td>코로나에 멈췄던 한강 분수 9곳, 다시 물줄기 뿜는다</td>\n    </tr>\n    <tr>\n      <th>6</th>\n      <td>코로나 환자 대면진료 의료기관, 최대 3만 1000원 추가 지급</td>\n    </tr>\n    <tr>\n      <th>7</th>\n      <td>[속보]코로나 2주간 안정시 실내마스크 착용 외 거리두기 전면해제</td>\n    </tr>\n    <tr>\n      <th>8</th>\n      <td>내주부터 '10명·12시' 거리두기…코로나 장례지원비 지급 중단(종합)</td>\n    </tr>\n    <tr>\n      <th>9</th>\n      <td>코로나 피해 중기 '대출만기·상환유예' 연기…3월→9월</td>\n    </tr>\n  </tbody>\n</table>\n</div>"
     },
     "execution_count": 17,
     "metadata": {},
     "output_type": "execute_result"
    }
   ],
   "source": [
    "# pd.DataFrame(titles).replace({\n",
    "#     '[단독]': '',\n",
    "#     '[단독] ': '',\n",
    "#     '[속보]': '',\n",
    "#     '[속보] ': '',\n",
    "# })"
   ],
   "metadata": {
    "collapsed": false,
    "pycharm": {
     "name": "#%%\n"
    }
   }
  },
  {
   "cell_type": "code",
   "execution_count": 11,
   "outputs": [
    {
     "data": {
      "text/plain": "' 코로나 환자 이송하는데...확진 없어야 우수 구급대원'"
     },
     "execution_count": 11,
     "metadata": {},
     "output_type": "execute_result"
    }
   ],
   "source": [
    "titles[2].replace('[단독]', '')  # 이런 식의 replace?\n",
    "# 사실 for문을 돌려서 해도 되기는 해 왜냐면 성능 상으로 엄청난 문제는 없을거임\n",
    "# 이건 적재할 때에 필요한 기능이니까\n",
    "# 지금 여기서 작성한 코드를 그대로 batch 로 만들거임"
   ],
   "metadata": {
    "collapsed": false,
    "pycharm": {
     "name": "#%%\n"
    }
   }
  },
  {
   "cell_type": "code",
   "execution_count": null,
   "outputs": [],
   "source": [
    "# 앞 뒤 필요 없는 값 제거 후\n",
    "# word embedding 진행\n"
   ],
   "metadata": {
    "collapsed": false,
    "pycharm": {
     "name": "#%%\n"
    }
   }
  }
 ],
 "metadata": {
  "kernelspec": {
   "display_name": "Python 3",
   "language": "python",
   "name": "python3"
  },
  "language_info": {
   "codemirror_mode": {
    "name": "ipython",
    "version": 2
   },
   "file_extension": ".py",
   "mimetype": "text/x-python",
   "name": "python",
   "nbconvert_exporter": "python",
   "pygments_lexer": "ipython2",
   "version": "2.7.6"
  }
 },
 "nbformat": 4,
 "nbformat_minor": 0
}